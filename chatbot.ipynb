{
  "nbformat": 4,
  "nbformat_minor": 0,
  "metadata": {
    "colab": {
      "provenance": []
    },
    "kernelspec": {
      "name": "python3",
      "display_name": "Python 3"
    },
    "language_info": {
      "name": "python"
    }
  },
  "cells": [
    {
      "cell_type": "code",
      "execution_count": null,
      "metadata": {
        "colab": {
          "base_uri": "https://localhost:8080/"
        },
        "id": "csCPvc9tv1Y5",
        "outputId": "b1682dcd-cab5-44cd-fcc5-ad85c387b263"
      },
      "outputs": [
        {
          "output_type": "stream",
          "name": "stdout",
          "text": [
            "Requirement already satisfied: nltk in /usr/local/lib/python3.10/dist-packages (3.8.1)\n",
            "Requirement already satisfied: click in /usr/local/lib/python3.10/dist-packages (from nltk) (8.1.7)\n",
            "Requirement already satisfied: joblib in /usr/local/lib/python3.10/dist-packages (from nltk) (1.3.2)\n",
            "Requirement already satisfied: regex>=2021.8.3 in /usr/local/lib/python3.10/dist-packages (from nltk) (2023.12.25)\n",
            "Requirement already satisfied: tqdm in /usr/local/lib/python3.10/dist-packages (from nltk) (4.66.2)\n"
          ]
        }
      ],
      "source": [
        "!pip install nltk"
      ]
    },
    {
      "cell_type": "code",
      "source": [
        "from nltk.chat.util import Chat,reflections\n",
        "reflections"
      ],
      "metadata": {
        "colab": {
          "base_uri": "https://localhost:8080/"
        },
        "id": "Oi5I15_pwGag",
        "outputId": "863174a2-f85d-4d50-d367-ee9c8019de9a"
      },
      "execution_count": 1,
      "outputs": [
        {
          "output_type": "execute_result",
          "data": {
            "text/plain": [
              "{'i am': 'you are',\n",
              " 'i was': 'you were',\n",
              " 'i': 'you',\n",
              " \"i'm\": 'you are',\n",
              " \"i'd\": 'you would',\n",
              " \"i've\": 'you have',\n",
              " \"i'll\": 'you will',\n",
              " 'my': 'your',\n",
              " 'you are': 'I am',\n",
              " 'you were': 'I was',\n",
              " \"you've\": 'I have',\n",
              " \"you'll\": 'I will',\n",
              " 'your': 'my',\n",
              " 'yours': 'mine',\n",
              " 'you': 'me',\n",
              " 'me': 'you'}"
            ]
          },
          "metadata": {},
          "execution_count": 1
        }
      ]
    },
    {
      "cell_type": "code",
      "source": [
        "pairs=[\n",
        "    [r'hi',['hii']],\n",
        "    [r'hii|hey|hello',['hi there']],\n",
        "    [r'how are you',['i am fine hoping u good']],\n",
        "    [r'what is your name',['My name is chatbot']],\n",
        "    [r'who invented you',['i am invented by kiran']],\n",
        "    [r'who is your boss',['my boss is kiran']],\n",
        "    [r'what can you tell for viewers',['please subscribe the pythonlife youtube channel my boss want your support']],\n",
        "    [r'are you mad',['nice joke']],\n",
        "    [r'sorry',['machine cannot have feelings its ok']],\n",
        "    [r'what is python',['it is a programming language']]\n",
        "]\n",
        "chat=Chat(pairs,reflections)\n",
        "chat.converse()\n",
        "def quit1():\n",
        "  print(\"hii i am chatbot ask me something\")\n",
        "if __name__==\"__main__\":\n",
        "  quit1()"
      ],
      "metadata": {
        "colab": {
          "base_uri": "https://localhost:8080/"
        },
        "id": "QtM81CFHxzsn",
        "outputId": "d3820bee-23ec-4f52-833b-737e9da8c1c1"
      },
      "execution_count": null,
      "outputs": [
        {
          "output_type": "stream",
          "name": "stdout",
          "text": [
            ">hii\n",
            "hii\n",
            ">are you mad\n",
            "nice joke\n"
          ]
        }
      ]
    }
  ]
}